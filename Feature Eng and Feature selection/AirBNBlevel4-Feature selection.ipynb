{
 "cells": [
  {
   "cell_type": "code",
   "execution_count": null,
   "id": "4dc59536-65b5-471d-9f81-eb03bb6b8ea2",
   "metadata": {},
   "outputs": [],
   "source": [
    "#Feuture Selection"
   ]
  },
  {
   "cell_type": "code",
   "execution_count": 4,
   "id": "c6651bae-cb10-4839-aeae-d6a69a1c8f23",
   "metadata": {},
   "outputs": [],
   "source": [
    "import pandas as pd\n",
    "import numpy as np\n",
    "import matplotlib.pyplot as plt\n",
    "from scipy.stats import zscore, ks_2samp\n",
    "import seaborn as sns\n",
    "\n",
    "%matplotlib inline\n",
    "\n",
    "# Ignore warnings\n",
    "import warnings\n",
    "warnings.filterwarnings('ignore')"
   ]
  },
  {
   "cell_type": "code",
   "execution_count": 6,
   "id": "70f6f154-3ddb-432d-bfbe-39693a7a9a61",
   "metadata": {},
   "outputs": [
    {
     "name": "stdout",
     "output_type": "stream",
     "text": [
      "<class 'pandas.core.frame.DataFrame'>\n",
      "RangeIndex: 169001 entries, 0 to 169000\n",
      "Data columns (total 28 columns):\n",
      " #   Column                    Non-Null Count   Dtype  \n",
      "---  ------                    --------------   -----  \n",
      " 0   Host Response Time        169001 non-null  float64\n",
      " 1   Host Response Rate        169001 non-null  float64\n",
      " 2   Is Superhost              169001 non-null  float64\n",
      " 3   neighbourhood             169001 non-null  float64\n",
      " 4   Postal Code               169001 non-null  float64\n",
      " 5   Is Exact Location         169001 non-null  float64\n",
      " 6   Property Type             169001 non-null  float64\n",
      " 7   Accomodates               169001 non-null  float64\n",
      " 8   Bathrooms                 169001 non-null  float64\n",
      " 9   Bedrooms                  169001 non-null  float64\n",
      " 10  Beds                      169001 non-null  float64\n",
      " 11  Price                     169001 non-null  float64\n",
      " 12  Guests Included           169001 non-null  float64\n",
      " 13  Min Nights                169001 non-null  float64\n",
      " 14  Reviews                   169001 non-null  float64\n",
      " 15  Overall Rating            169001 non-null  float64\n",
      " 16  Accuracy Rating           169001 non-null  float64\n",
      " 17  Cleanliness Rating        169001 non-null  float64\n",
      " 18  Checkin Rating            169001 non-null  float64\n",
      " 19  Communication Rating      169001 non-null  float64\n",
      " 20  Location Rating           169001 non-null  float64\n",
      " 21  Value Rating              169001 non-null  float64\n",
      " 22  Instant Bookable          169001 non-null  float64\n",
      " 23  Years From Today          169001 non-null  float64\n",
      " 24  SentimentScore            169001 non-null  float64\n",
      " 25  Room Type_Entire homeapt  169001 non-null  float64\n",
      " 26  Room Type_Private room    169001 non-null  float64\n",
      " 27  Room Type_Shared room     169001 non-null  float64\n",
      "dtypes: float64(28)\n",
      "memory usage: 36.1 MB\n"
     ]
    }
   ],
   "source": [
    "# Load the CSV file into a DataFrame\n",
    "df = pd.read_csv(r'C:\\Users\\מיכאל\\Desktop\\air bnb germany project\\df_level3final.csv', encoding='latin1',low_memory=False)\n",
    "df.info()"
   ]
  },
  {
   "cell_type": "code",
   "execution_count": 8,
   "id": "db6ef6ef-d011-4992-bd0d-3e88acfa74d7",
   "metadata": {},
   "outputs": [],
   "source": [
    "y=df['Price']\n",
    "X = df.drop(columns=['Price'])"
   ]
  },
  {
   "cell_type": "code",
   "execution_count": 9,
   "id": "9bee581d-a49a-4b71-a60f-47d9ae974c5f",
   "metadata": {},
   "outputs": [],
   "source": [
    "# Multivariable Analysis\n",
    "from sklearn.pipeline import Pipeline\n",
    "from sklearn.ensemble import GradientBoostingClassifier, RandomForestClassifier\n",
    "from sklearn.linear_model import Lasso\n",
    "from sklearn.feature_selection import SelectFromModel\n",
    "from sklearn.svm import LinearSVC\n"
   ]
  },
  {
   "cell_type": "code",
   "execution_count": 10,
   "id": "bb8ec3f1-d537-4fbd-b8ec-96fc2dadcf8a",
   "metadata": {},
   "outputs": [
    {
     "name": "stdout",
     "output_type": "stream",
     "text": [
      "                     Feature  Lasso  SVM  GradientBoost  RandomForest  Sum\n",
      "0         Host Response Time      1    0              1             1    3\n",
      "1         Host Response Rate      0    1              0             0    1\n",
      "2               Is Superhost      1    0              1             1    3\n",
      "3              neighbourhood      1    0              1             1    3\n",
      "4                Postal Code      1    1              1             1    4\n",
      "5          Is Exact Location      1    0              1             1    3\n",
      "6              Property Type      1    1              1             1    4\n",
      "7                Accomodates      1    1              1             1    4\n",
      "8                  Bathrooms      0    0              0             0    0\n",
      "9                   Bedrooms      0    0              0             0    0\n",
      "10                      Beds      1    1              1             1    4\n",
      "11           Guests Included      1    0              1             1    3\n",
      "12                Min Nights      1    1              1             1    4\n",
      "13                   Reviews      1    1              1             1    4\n",
      "14            Overall Rating      1    1              1             1    4\n",
      "15           Accuracy Rating      0    0              0             0    0\n",
      "16        Cleanliness Rating      1    0              1             1    3\n",
      "17            Checkin Rating      0    1              0             0    1\n",
      "18      Communication Rating      0    1              0             0    1\n",
      "19           Location Rating      1    0              1             1    3\n",
      "20              Value Rating      1    0              1             1    3\n",
      "21          Instant Bookable      1    0              1             1    3\n",
      "22          Years From Today      1    1              1             1    4\n",
      "23            SentimentScore      1    0              1             1    3\n",
      "24  Room Type_Entire homeapt      0    0              1             1    2\n",
      "25    Room Type_Private room      1    0              1             1    3\n",
      "26     Room Type_Shared room      1    0              1             1    3\n"
     ]
    }
   ],
   "source": [
    "### Summarization and Selection of Variables \n",
    "# Fit models and determine if a feature is selected (1) or not (0)\n",
    "lasso = Lasso(alpha=0.01).fit(X, y)\n",
    "lasso_selected = (np.abs(lasso.coef_) > 0).astype(int)\n",
    "\n",
    "svm = LinearSVC(C=0.01, penalty=\"l1\", dual=False).fit(X, y)\n",
    "svm_selected = (np.abs(svm.coef_[0]) > 0).astype(int)\n",
    "\n",
    "gb = GradientBoostingClassifier().fit(X, y)\n",
    "gb_selected = (gb.feature_importances_ > 0).astype(int)\n",
    "\n",
    "rf = RandomForestClassifier().fit(X, y)\n",
    "rf_selected = (rf.feature_importances_ > 0).astype(int)\n",
    "\n",
    "# Create a DataFrame to store results\n",
    "selection_df = pd.DataFrame({\n",
    "    'Feature': X.columns,\n",
    "    'Lasso': lasso_selected,\n",
    "    'SVM': svm_selected,\n",
    "    'GradientBoost': gb_selected,\n",
    "    'RandomForest': rf_selected\n",
    "})\n",
    "\n",
    "# Sum the number of selections for each feature\n",
    "selection_df['Sum'] = selection_df[['Lasso', 'SVM', 'GradientBoost', 'RandomForest']].sum(axis=1)\n",
    "\n",
    "# Output the results\n",
    "print(selection_df)"
   ]
  },
  {
   "cell_type": "code",
   "execution_count": 12,
   "id": "5d482244-05b6-4c8e-8cff-624973a433fd",
   "metadata": {},
   "outputs": [
    {
     "name": "stdout",
     "output_type": "stream",
     "text": [
      "<class 'pandas.core.frame.DataFrame'>\n",
      "RangeIndex: 169001 entries, 0 to 169000\n",
      "Data columns (total 21 columns):\n",
      " #   Column                  Non-Null Count   Dtype  \n",
      "---  ------                  --------------   -----  \n",
      " 0   Host Response Time      169001 non-null  float64\n",
      " 1   Is Superhost            169001 non-null  float64\n",
      " 2   neighbourhood           169001 non-null  float64\n",
      " 3   Postal Code             169001 non-null  float64\n",
      " 4   Is Exact Location       169001 non-null  float64\n",
      " 5   Property Type           169001 non-null  float64\n",
      " 6   Accomodates             169001 non-null  float64\n",
      " 7   Beds                    169001 non-null  float64\n",
      " 8   Guests Included         169001 non-null  float64\n",
      " 9   Min Nights              169001 non-null  float64\n",
      " 10  Reviews                 169001 non-null  float64\n",
      " 11  Overall Rating          169001 non-null  float64\n",
      " 12  Cleanliness Rating      169001 non-null  float64\n",
      " 13  Location Rating         169001 non-null  float64\n",
      " 14  Value Rating            169001 non-null  float64\n",
      " 15  Instant Bookable        169001 non-null  float64\n",
      " 16  Years From Today        169001 non-null  float64\n",
      " 17  SentimentScore          169001 non-null  float64\n",
      " 18  Room Type_Private room  169001 non-null  float64\n",
      " 19  Room Type_Shared room   169001 non-null  float64\n",
      " 20  Price                   169001 non-null  float64\n",
      "dtypes: float64(21)\n",
      "memory usage: 27.1 MB\n"
     ]
    }
   ],
   "source": [
    "# Creating DataFrame with most valuable variables\n",
    " #Selecting variables with a sum of selections >= 3\n",
    "final_var = selection_df[selection_df['Sum'] >= 3]['Feature'].tolist()\n",
    "df_model = df[final_var].copy()\n",
    "df_model['Price'] = df['Price'].copy()\n",
    "\n",
    "# Output the result to verify\n",
    "df_model.info()\n"
   ]
  },
  {
   "cell_type": "code",
   "execution_count": 13,
   "id": "a0faafd1-8a46-4200-8ce8-7285ae167244",
   "metadata": {},
   "outputs": [],
   "source": [
    "# save the dataframe \n",
    "df_model.to_csv(r'C:\\Users\\מיכאל\\Desktop\\air bnb germany project\\df_level4_feature_selection.csv')\n",
    "print(\"saved\")"
   ]
  },
  {
   "cell_type": "code",
   "execution_count": null,
   "id": "abba44a4-0e8a-4a6e-805f-e531d4f811ec",
   "metadata": {},
   "outputs": [],
   "source": []
  }
 ],
 "metadata": {
  "kernelspec": {
   "display_name": "Python 3 (ipykernel)",
   "language": "python",
   "name": "python3"
  },
  "language_info": {
   "codemirror_mode": {
    "name": "ipython",
    "version": 3
   },
   "file_extension": ".py",
   "mimetype": "text/x-python",
   "name": "python",
   "nbconvert_exporter": "python",
   "pygments_lexer": "ipython3",
   "version": "3.12.4"
  }
 },
 "nbformat": 4,
 "nbformat_minor": 5
}
