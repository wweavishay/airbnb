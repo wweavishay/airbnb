{
 "cells": [
  {
   "cell_type": "code",
   "execution_count": 6,
   "id": "36254259-5e3c-4c20-8515-87da52040977",
   "metadata": {},
   "outputs": [],
   "source": [
    "import pandas as pd\n",
    "import numpy as np\n",
    "import matplotlib.pyplot as plt\n",
    "from scipy.stats import zscore, ks_2samp\n",
    "import seaborn as sns\n",
    "from sklearn.svm import SVR\n",
    "import sklearn.metrics as metrics \n",
    "\n",
    "%matplotlib inline\n"
   ]
  },
  {
   "cell_type": "code",
   "execution_count": 7,
   "id": "5a5698b7-71a3-499f-9569-487aed5a5f3a",
   "metadata": {},
   "outputs": [
    {
     "name": "stdout",
     "output_type": "stream",
     "text": [
      "<class 'pandas.core.frame.DataFrame'>\n",
      "RangeIndex: 169001 entries, 0 to 169000\n",
      "Data columns (total 22 columns):\n",
      " #   Column                  Non-Null Count   Dtype  \n",
      "---  ------                  --------------   -----  \n",
      " 0   Unnamed: 0              169001 non-null  int64  \n",
      " 1   Host Response Time      169001 non-null  float64\n",
      " 2   Is Superhost            169001 non-null  float64\n",
      " 3   neighbourhood           169001 non-null  float64\n",
      " 4   Postal Code             169001 non-null  float64\n",
      " 5   Is Exact Location       169001 non-null  float64\n",
      " 6   Property Type           169001 non-null  float64\n",
      " 7   Accomodates             169001 non-null  float64\n",
      " 8   Beds                    169001 non-null  float64\n",
      " 9   Guests Included         169001 non-null  float64\n",
      " 10  Min Nights              169001 non-null  float64\n",
      " 11  Reviews                 169001 non-null  float64\n",
      " 12  Overall Rating          169001 non-null  float64\n",
      " 13  Cleanliness Rating      169001 non-null  float64\n",
      " 14  Location Rating         169001 non-null  float64\n",
      " 15  Value Rating            169001 non-null  float64\n",
      " 16  Instant Bookable        169001 non-null  float64\n",
      " 17  Years From Today        169001 non-null  float64\n",
      " 18  SentimentScore          169001 non-null  float64\n",
      " 19  Room Type_Private room  169001 non-null  float64\n",
      " 20  Room Type_Shared room   169001 non-null  float64\n",
      " 21  Price                   169001 non-null  float64\n",
      "dtypes: float64(21), int64(1)\n",
      "memory usage: 28.4 MB\n"
     ]
    }
   ],
   "source": [
    "# Load the CSV file into a DataFrame\n",
    "df = pd.read_csv(r'C:\\Users\\מיכאל\\Desktop\\air bnb germany project\\df_level4_feature_selection.csv', encoding='latin1',low_memory=False)\n",
    "df.info()"
   ]
  },
  {
   "cell_type": "code",
   "execution_count": 8,
   "id": "49afe35a-7e5c-4180-97fd-97dea8f26733",
   "metadata": {},
   "outputs": [],
   "source": [
    "X = df.loc[:,df.columns != 'Price']\n",
    "y = df['Price']\n",
    "\n",
    "from sklearn.model_selection import train_test_split\n",
    "\n",
    "# Split the data into training and test sets\n",
    "X_train, X_test, y_train, y_test = train_test_split(X, y, test_size=0.2, random_state=42)"
   ]
  },
  {
   "cell_type": "code",
   "execution_count": null,
   "id": "f02618ab-3632-419b-8831-6ee3ec65736f",
   "metadata": {},
   "outputs": [],
   "source": [
    "# Initialize the SVR model\n",
    "model = SVR(kernel='linear') \n",
    "\n",
    "# Train the model\n",
    "model.fit(X_train, y_train)\n",
    "\n",
    "# Make predictions on the test set\n",
    "y_pred = model.predict(X_test)\n",
    "\n",
    "# Evaluate the model\n",
    "\n",
    "# 'Price' is a continuous variable (regression problem):\n",
    "print(f'Mean Squared Error: {mean_squared_error(y_test, y_pred)}')\n"
   ]
  },
  {
   "cell_type": "code",
   "execution_count": null,
   "id": "94ccf6ba-089f-445a-8e0f-e7838154bfd4",
   "metadata": {},
   "outputs": [],
   "source": [
    "# Define the parameter grid for GridSearchCV\n",
    "param_grid = {\n",
    "    'kernel': ['linear', 'rbf'], # You can add more kernels if needed\n",
    "    'C': [0.1, 1, 10, 100],      # Regularization parameter\n",
    "    'gamma': ['scale', 'auto', 0.01, 0.1, 1] # Kernel coefficient for 'rbf' kernel\n",
    "}\n",
    "\n",
    "# Initialize the SVR model\n",
    "svr = SVR()\n",
    "\n",
    "# Set up the GridSearchCV\n",
    "grid_search = GridSearchCV(estimator=svr, param_grid=param_grid, cv=5, scoring='neg_mean_squared_error', n_jobs=-1)\n",
    "\n",
    "# Train the model with GridSearchCV\n",
    "grid_search.fit(X_train, y_train)\n",
    "\n",
    "# Get the best model from grid search\n",
    "best_model = grid_search.best_estimator_\n",
    "\n",
    "# Make predictions on the test set\n",
    "y_pred = best_model.predict(X_test)\n",
    "\n",
    "# Evaluate the model\n",
    "print(f'Best Parameters: {grid_search.best_params_}')\n",
    "print(f'Mean Squared Error: {mean_squared_error(y_test, y_pred)}')"
   ]
  },
  {
   "cell_type": "code",
   "execution_count": null,
   "id": "13ead721-1a23-4366-948d-54e427644e71",
   "metadata": {},
   "outputs": [],
   "source": []
  },
  {
   "cell_type": "code",
   "execution_count": null,
   "id": "f278ca99-46a4-4b7f-a71b-eecf76fd0b5e",
   "metadata": {},
   "outputs": [],
   "source": []
  }
 ],
 "metadata": {
  "kernelspec": {
   "display_name": "Python 3 (ipykernel)",
   "language": "python",
   "name": "python3"
  },
  "language_info": {
   "codemirror_mode": {
    "name": "ipython",
    "version": 3
   },
   "file_extension": ".py",
   "mimetype": "text/x-python",
   "name": "python",
   "nbconvert_exporter": "python",
   "pygments_lexer": "ipython3",
   "version": "3.12.4"
  }
 },
 "nbformat": 4,
 "nbformat_minor": 5
}
